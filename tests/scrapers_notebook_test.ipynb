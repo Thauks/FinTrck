{
 "cells": [
  {
   "cell_type": "code",
   "execution_count": 52,
   "metadata": {},
   "outputs": [
    {
     "name": "stdout",
     "output_type": "stream",
     "text": [
      "The autoreload extension is already loaded. To reload it, use:\n",
      "  %reload_ext autoreload\n"
     ]
    }
   ],
   "source": [
    "%load_ext autoreload\n",
    "%autoreload 2\n",
    "from src.scrapers.myinvestor_scraper import MyinvestorScraper\n",
    "from src.config_loader import load_myinvestor_config\n",
    "from dataclasses import asdict\n",
    "import requests\n",
    "filename = 'config/platforms/myinvestor.yaml'"
   ]
  },
  {
   "cell_type": "code",
   "execution_count": 53,
   "metadata": {},
   "outputs": [],
   "source": [
    "config = load_myinvestor_config(filename)"
   ]
  },
  {
   "cell_type": "code",
   "execution_count": 54,
   "metadata": {},
   "outputs": [],
   "source": [
    "m = MyinvestorScraper(config)"
   ]
  },
  {
   "cell_type": "code",
   "execution_count": 61,
   "metadata": {},
   "outputs": [
    {
     "name": "stdout",
     "output_type": "stream",
     "text": [
      "{'status': {'timestamp': '2024-10-15T14:44:53.074764221Z', 'code': 'OK'}, 'payload': {'data': {'accessToken': 'eyJhbGciOiJSUzI1NiIsInR5cCIgOiAiSldUIiwia2lkIiA6ICI5YW5CME1YeUhDQktkV0RVN0Q5NnZYV09PblVHc2xIUEFLR3puQnBkRi1NIn0.eyJleHAiOjE3MjkwMDQzOTMsImlhdCI6MTcyOTAwMzQ5MywianRpIjoiYjk3NDNhOTQtNmRiNi00YzFlLTk3Y2ItMGRkYTI3NTU5NDFlIiwiaXNzIjoiaHR0cDovL2tleWNsb2FrLmtleWNsb2FrLnByb2QubXlpbnZlc3Rvci5sb2NhbDoxMDAwMi9yZWFsbXMvbXlpbnZlc3Rvci1wcm9kIiwiYXVkIjoiYWNjb3VudCIsInN1YiI6IjY2MTkwOWNiLTBkYjEtNDY0ZC1hMzA5LTViYWNhYTZjYmY4ZSIsInR5cCI6IkJlYXJlciIsImF6cCI6Im15aW52ZXN0b3ItY2xpZW50LXByb2QiLCJzaWQiOiJiMGU5NmNlZi02NGFhLTRjYmMtYjlkYi04NzhkMDZkNTU4MzciLCJhY3IiOiIxIiwiYWxsb3dlZC1vcmlnaW5zIjpbIi8qIl0sInJlYWxtX2FjY2VzcyI6eyJyb2xlcyI6WyJvZmZsaW5lX2FjY2VzcyIsImRlZmF1bHQtcm9sZXMtbXlpbnZlc3Rvci1wcm9kIiwidW1hX2F1dGhvcml6YXRpb24iXX0sInJlc291cmNlX2FjY2VzcyI6eyJteWludmVzdG9yLWNsaWVudC1wcm9kIjp7InJvbGVzIjpbIk1ZSU5WRVNUT1IiLCJVU0VSIl19LCJhY2NvdW50Ijp7InJvbGVzIjpbIm1hbmFnZS1hY2NvdW50IiwibWFuYWdlLWFjY291bnQtbGlua3MiLCJ2aWV3LXByb2ZpbGUiXX19LCJzY29wZSI6InByb2ZpbGUgZW1haWwiLCJlbWFpbF92ZXJpZmllZCI6dHJ1ZSwibmFtZSI6IkpPUkRJIE1FU1RSRVMgRVNURVZFIiwicHJlZmVycmVkX3VzZXJuYW1lIjoiNDc3NDYzMjBlIiwiZ2l2ZW5fbmFtZSI6IkpPUkRJIiwiZmFtaWx5X25hbWUiOiJNRVNUUkVTIEVTVEVWRSIsImVtYWlsIjoiam9yZGltZXN0cmVlc0BnbWFpbC5jb20ifQ.VoXK5LQOvlhtPpbypfLb-RHHiIk1BjtNnSR1rvEi102FXtELStB28UadYDvoY9lmQR_Z__kzFD7dLC_Sl42IMiTy_pn2BLV_F7Fd4RyR5GTfVQ0k5aVfyHKL5x-lbDEPsfnF7ay-aLSbbZUKBWJ8BK05SAeVV_aOdPjZxB6FYwwWdPIq0N7ovvG1W5H0pW-qRazpkCIz-QODO5ZG_VsQhowztO8SZBv--iYg94nMMtoaGq6u_d5X6SZI624mDcYkLTwLiOOBkvTx9plPnOZGoReFjGobb3QiFkUAp-UFDVJdImWHg7lHSLhHg06IcjsJBmNub6NfxgcAZE6BCIn1NQ', 'expiresIn': 900, 'refreshToken': 'eyJhbGciOiJIUzUxMiIsInR5cCIgOiAiSldUIiwia2lkIiA6ICJiNzUzNDI3Mi04Y2FjLTRhOGYtODlkNy0zOGU2MTczMzkxNGUifQ.eyJleHAiOjE3MjkwMDUyOTMsImlhdCI6MTcyOTAwMzQ5MywianRpIjoiMzcwMDA3ZjQtMjgxMS00ZjQxLWEzMjQtNjRlMjllODJlNTZlIiwiaXNzIjoiaHR0cDovL2tleWNsb2FrLmtleWNsb2FrLnByb2QubXlpbnZlc3Rvci5sb2NhbDoxMDAwMi9yZWFsbXMvbXlpbnZlc3Rvci1wcm9kIiwiYXVkIjoiaHR0cDovL2tleWNsb2FrLmtleWNsb2FrLnByb2QubXlpbnZlc3Rvci5sb2NhbDoxMDAwMi9yZWFsbXMvbXlpbnZlc3Rvci1wcm9kIiwic3ViIjoiNjYxOTA5Y2ItMGRiMS00NjRkLWEzMDktNWJhY2FhNmNiZjhlIiwidHlwIjoiUmVmcmVzaCIsImF6cCI6Im15aW52ZXN0b3ItY2xpZW50LXByb2QiLCJzaWQiOiJiMGU5NmNlZi02NGFhLTRjYmMtYjlkYi04NzhkMDZkNTU4MzciLCJzY29wZSI6IndlYi1vcmlnaW5zIGFjciBwcm9maWxlIGVtYWlsIHJvbGVzIGJhc2ljIn0.ngIeHp5e4jleZkyGCr9tT_Hxxs1SRKRN0Ud5cmkNmTH0tJ7DJ4pssd5Pk6n7O3unT6piGhP7l5ltHPJqodeRKQ', 'refreshExpiresIn': 1800, 'tokenType': 'Bearer'}}}\n"
     ]
    },
    {
     "data": {
      "text/plain": [
       "2462.44"
      ]
     },
     "execution_count": 61,
     "metadata": {},
     "output_type": "execute_result"
    }
   ],
   "source": [
    "m.login()\n",
    "m.fetch_cash()"
   ]
  },
  {
   "cell_type": "code",
   "execution_count": 56,
   "metadata": {},
   "outputs": [],
   "source": [
    "r = m.session.get(m.config.endpoints.accounts)"
   ]
  },
  {
   "cell_type": "code",
   "execution_count": 57,
   "metadata": {},
   "outputs": [
    {
     "name": "stdout",
     "output_type": "stream",
     "text": [
      "2462.44\n",
      "0.0\n"
     ]
    }
   ],
   "source": [
    "for elem in r.json():\n",
    "    print(elem['importeCuenta'])"
   ]
  },
  {
   "cell_type": "code",
   "execution_count": 58,
   "metadata": {},
   "outputs": [
    {
     "data": {
      "text/plain": [
       "2462.44"
      ]
     },
     "execution_count": 58,
     "metadata": {},
     "output_type": "execute_result"
    }
   ],
   "source": [
    "sum([acc['importeCuenta'] for acc in r.json()])"
   ]
  },
  {
   "cell_type": "code",
   "execution_count": 60,
   "metadata": {},
   "outputs": [
    {
     "data": {
      "text/plain": [
       "2462.44"
      ]
     },
     "execution_count": 60,
     "metadata": {},
     "output_type": "execute_result"
    }
   ],
   "source": []
  },
  {
   "cell_type": "code",
   "execution_count": null,
   "metadata": {},
   "outputs": [],
   "source": []
  }
 ],
 "metadata": {
  "kernelspec": {
   "display_name": "Python 3",
   "language": "python",
   "name": "python3"
  },
  "language_info": {
   "codemirror_mode": {
    "name": "ipython",
    "version": 3
   },
   "file_extension": ".py",
   "mimetype": "text/x-python",
   "name": "python",
   "nbconvert_exporter": "python",
   "pygments_lexer": "ipython3",
   "version": "3.7.9"
  }
 },
 "nbformat": 4,
 "nbformat_minor": 2
}
