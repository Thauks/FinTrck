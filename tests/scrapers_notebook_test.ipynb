{
 "cells": [
  {
   "cell_type": "code",
   "execution_count": 5,
   "metadata": {},
   "outputs": [
    {
     "name": "stdout",
     "output_type": "stream",
     "text": [
      "The autoreload extension is already loaded. To reload it, use:\n",
      "  %reload_ext autoreload\n"
     ]
    }
   ],
   "source": [
    "%load_ext autoreload\n",
    "%autoreload 2\n",
    "from src.scrapers.myinvestor_scraper import MyinvestorScraper\n",
    "from src.config_loader import load_myinvestor_config\n",
    "from dataclasses import asdict\n",
    "from src.models.financial import FinProdType, FinProd\n",
    "filename = 'config/platforms/myinvestor.yaml'"
   ]
  },
  {
   "cell_type": "code",
   "execution_count": 2,
   "metadata": {},
   "outputs": [],
   "source": [
    "config = load_myinvestor_config(filename)"
   ]
  },
  {
   "cell_type": "code",
   "execution_count": 3,
   "metadata": {},
   "outputs": [],
   "source": [
    "m = MyinvestorScraper(config)"
   ]
  },
  {
   "cell_type": "code",
   "execution_count": 4,
   "metadata": {},
   "outputs": [
    {
     "name": "stdout",
     "output_type": "stream",
     "text": [
      "{'status': {'timestamp': '2024-10-17T15:39:10.549969277Z', 'code': 'OK'}, 'payload': {'data': {'accessToken': 'eyJhbGciOiJSUzI1NiIsInR5cCIgOiAiSldUIiwia2lkIiA6ICI5YW5CME1YeUhDQktkV0RVN0Q5NnZYV09PblVHc2xIUEFLR3puQnBkRi1NIn0.eyJleHAiOjE3MjkxODA0NTAsImlhdCI6MTcyOTE3OTU1MCwianRpIjoiNmE0YTQ3ZDItNWIyZi00ODk4LWI4NDMtZjU3ZmMyMjIyOTBjIiwiaXNzIjoiaHR0cDovL2tleWNsb2FrLmtleWNsb2FrLnByb2QubXlpbnZlc3Rvci5sb2NhbDoxMDAwMi9yZWFsbXMvbXlpbnZlc3Rvci1wcm9kIiwiYXVkIjoiYWNjb3VudCIsInN1YiI6IjY2MTkwOWNiLTBkYjEtNDY0ZC1hMzA5LTViYWNhYTZjYmY4ZSIsInR5cCI6IkJlYXJlciIsImF6cCI6Im15aW52ZXN0b3ItY2xpZW50LXByb2QiLCJzaWQiOiI1YzhlZTI3Zi1iMzdkLTQwZjYtYTQzZS0zNzkxZjNmOTQxYjAiLCJhY3IiOiIxIiwiYWxsb3dlZC1vcmlnaW5zIjpbIi8qIl0sInJlYWxtX2FjY2VzcyI6eyJyb2xlcyI6WyJvZmZsaW5lX2FjY2VzcyIsImRlZmF1bHQtcm9sZXMtbXlpbnZlc3Rvci1wcm9kIiwidW1hX2F1dGhvcml6YXRpb24iXX0sInJlc291cmNlX2FjY2VzcyI6eyJteWludmVzdG9yLWNsaWVudC1wcm9kIjp7InJvbGVzIjpbIk1ZSU5WRVNUT1IiLCJVU0VSIl19LCJhY2NvdW50Ijp7InJvbGVzIjpbIm1hbmFnZS1hY2NvdW50IiwibWFuYWdlLWFjY291bnQtbGlua3MiLCJ2aWV3LXByb2ZpbGUiXX19LCJzY29wZSI6InByb2ZpbGUgZW1haWwiLCJlbWFpbF92ZXJpZmllZCI6dHJ1ZSwibmFtZSI6IkpPUkRJIE1FU1RSRVMgRVNURVZFIiwicHJlZmVycmVkX3VzZXJuYW1lIjoiNDc3NDYzMjBlIiwiZ2l2ZW5fbmFtZSI6IkpPUkRJIiwiZmFtaWx5X25hbWUiOiJNRVNUUkVTIEVTVEVWRSIsImVtYWlsIjoiam9yZGltZXN0cmVlc0BnbWFpbC5jb20ifQ.OFabQMyUON5Rucrhbmh6TY6tEBxfoJ8vd4CujHfB_R0c716w8P8uOuL3wVKq2FfayjYvhw-rIeeUeDr2jXyD-rnZQaSwQImokwtLuXjlKBSBomumEl0_n5pTHpNgX5zaRdIy_hseU2ixtmjapms2qCIayQEWWQ6mEsgNlmhiLfCXV8wNXKbeNZ7TTkaKAJQjB-Fp_G6qUZKsV3HfVsRQWW4KITnSS4OAC9UjANR3AYMCTJCl4HkXH7kyzKyV4eAj5eM8sEH7i0paqQkCwrkYMRiMp7EhDGFr_kCQCH1ioKw9MjYzZnYGEMXIPIiclTbTs6mgHltqscvU1hT-h8NOkQ', 'expiresIn': 900, 'refreshToken': 'eyJhbGciOiJIUzUxMiIsInR5cCIgOiAiSldUIiwia2lkIiA6ICJiNzUzNDI3Mi04Y2FjLTRhOGYtODlkNy0zOGU2MTczMzkxNGUifQ.eyJleHAiOjE3MjkxODEzNTAsImlhdCI6MTcyOTE3OTU1MCwianRpIjoiZWRmYmMyOTktNDRkYS00OWZiLWE5ODYtOWFjOTUyODEwNjFjIiwiaXNzIjoiaHR0cDovL2tleWNsb2FrLmtleWNsb2FrLnByb2QubXlpbnZlc3Rvci5sb2NhbDoxMDAwMi9yZWFsbXMvbXlpbnZlc3Rvci1wcm9kIiwiYXVkIjoiaHR0cDovL2tleWNsb2FrLmtleWNsb2FrLnByb2QubXlpbnZlc3Rvci5sb2NhbDoxMDAwMi9yZWFsbXMvbXlpbnZlc3Rvci1wcm9kIiwic3ViIjoiNjYxOTA5Y2ItMGRiMS00NjRkLWEzMDktNWJhY2FhNmNiZjhlIiwidHlwIjoiUmVmcmVzaCIsImF6cCI6Im15aW52ZXN0b3ItY2xpZW50LXByb2QiLCJzaWQiOiI1YzhlZTI3Zi1iMzdkLTQwZjYtYTQzZS0zNzkxZjNmOTQxYjAiLCJzY29wZSI6IndlYi1vcmlnaW5zIGFjciBwcm9maWxlIGVtYWlsIHJvbGVzIGJhc2ljIn0.fRiWP8iIU1bz62TsCCpMgmHFxF5jJT3ZpC2nwyK-ENE9YsYf2E79dp3V0CgK4zaVRqoOhZd0eTkTQZ6_Q-heuQ', 'refreshExpiresIn': 1800, 'tokenType': 'Bearer'}}}\n"
     ]
    },
    {
     "data": {
      "text/plain": [
       "2462.44"
      ]
     },
     "execution_count": 4,
     "metadata": {},
     "output_type": "execute_result"
    }
   ],
   "source": [
    "m.login()"
   ]
  },
  {
   "cell_type": "code",
   "execution_count": null,
   "metadata": {},
   "outputs": [],
   "source": [
    "m.fetch_cash()"
   ]
  },
  {
   "cell_type": "code",
   "execution_count": 10,
   "metadata": {},
   "outputs": [],
   "source": [
    "m.logout()"
   ]
  },
  {
   "cell_type": "code",
   "execution_count": 9,
   "metadata": {},
   "outputs": [],
   "source": [
    "r = m.session.get('https://app.myinvestor.es/urbanitae/v1/users/U109574/allInvestments')"
   ]
  },
  {
   "cell_type": "code",
   "execution_count": 12,
   "metadata": {},
   "outputs": [
    {
     "data": {
      "text/plain": [
       "[{'projectId': 'P000316',\n",
       "  'projectName': 'Madrid | Proyecto El Plantío',\n",
       "  'projectPhase': 'FORMALIZED',\n",
       "  'projectPhaseString': 'FINANCIADO',\n",
       "  'businessModel': 'LENDING',\n",
       "  'returnQuantity': None,\n",
       "  'returnCapital': None,\n",
       "  'investedQuantity': 1000.0,\n",
       "  'propertyPercentage': 0.08,\n",
       "  'statusMyinvestor': 'ACTIVE',\n",
       "  'statusMyinvestorEnum': 'ACTIVE'}]"
      ]
     },
     "execution_count": 12,
     "metadata": {},
     "output_type": "execute_result"
    }
   ],
   "source": [
    "r.json()"
   ]
  },
  {
   "cell_type": "code",
   "execution_count": 16,
   "metadata": {},
   "outputs": [
    {
     "data": {
      "text/plain": [
       "1000.0"
      ]
     },
     "execution_count": 16,
     "metadata": {},
     "output_type": "execute_result"
    }
   ],
   "source": []
  }
 ],
 "metadata": {
  "kernelspec": {
   "display_name": "Python 3",
   "language": "python",
   "name": "python3"
  },
  "language_info": {
   "codemirror_mode": {
    "name": "ipython",
    "version": 3
   },
   "file_extension": ".py",
   "mimetype": "text/x-python",
   "name": "python",
   "nbconvert_exporter": "python",
   "pygments_lexer": "ipython3",
   "version": "3.7.9"
  }
 },
 "nbformat": 4,
 "nbformat_minor": 2
}
