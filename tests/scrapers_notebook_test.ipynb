{
 "cells": [
  {
   "cell_type": "code",
   "execution_count": 43,
   "metadata": {},
   "outputs": [
    {
     "name": "stdout",
     "output_type": "stream",
     "text": [
      "The autoreload extension is already loaded. To reload it, use:\n",
      "  %reload_ext autoreload\n"
     ]
    },
    {
     "data": {
      "text/plain": [
       "True"
      ]
     },
     "execution_count": 43,
     "metadata": {},
     "output_type": "execute_result"
    }
   ],
   "source": [
    "%load_ext autoreload\n",
    "%autoreload 2\n",
    "from src.scrapers.myinvestor_scraper import MyinvestorScraper\n",
    "from src.config_loader import load_myinvestor_config\n",
    "from pathlib import Path\n",
    "from dotenv import load_dotenv\n",
    "from src.models.financial import FinProdType, FinProd\n",
    "filename = 'config/platforms/myinvestor.yaml'\n",
    "\n",
    "load_dotenv(dotenv_path=Path('config/.env'))"
   ]
  },
  {
   "cell_type": "code",
   "execution_count": 36,
   "metadata": {},
   "outputs": [],
   "source": [
    "config = load_myinvestor_config(filename)"
   ]
  },
  {
   "cell_type": "code",
   "execution_count": 37,
   "metadata": {},
   "outputs": [
    {
     "data": {
      "text/plain": [
       "MyinvestorConfig(login_info=MyLoginInfo(accessType='USERNAME', code=None, customerId='47746320E', deviceId='81e13678-d2bf-40b7-ac34-861ddb791e5d', otpId=None, password='@Atmira00', plataform=None), endpoints=MyEndpoints(login='https://app.myinvestor.es/ms-keycloak/api/v1/auth/token', accounts='https://app.myinvestor.es/myinvestor-server/rest/protected/cuentas/efectivo', indexed='https://app.myinvestor.es/myinvestor-server/rest/protected/indexadas/{}', movements='https://app.myinvestor.es/myinvestor-server/rest/protected/cuentas/consulta-movimientos-efectivo', positions='https://app.myinvestor.es/myinvestor-server/rest/protected/posiciones', real_state='https://app.myinvestor.es/urbanitae/v1/users/U109574/allInvestments'), data_mapping={'cash': {'id': '', 'name': '', 'initial_value': '', 'value': ''}, 'stock': {'id': '', 'name': '', 'initial_value': '', 'value': ''}, 'etf': {'id': '', 'name': '', 'initial_value': '', 'value': ''}, 'fund': {'id': '', 'name': '', 'initial_value': '', 'value': ''}, 'crypto': {'id': '', 'name': '', 'initial_value': '', 'value': ''}, 'bond': {'id': '', 'name': '', 'initial_value': '', 'value': ''}, 'realestate': {'id': 'projectId', 'name': 'projectName', 'initial_value': 'investedQuantity', 'value': 'investedQuantity'}})"
      ]
     },
     "execution_count": 37,
     "metadata": {},
     "output_type": "execute_result"
    }
   ],
   "source": [
    "config"
   ]
  },
  {
   "cell_type": "code",
   "execution_count": 39,
   "metadata": {},
   "outputs": [],
   "source": [
    "m = MyinvestorScraper(config)"
   ]
  },
  {
   "cell_type": "code",
   "execution_count": 45,
   "metadata": {},
   "outputs": [
    {
     "name": "stdout",
     "output_type": "stream",
     "text": [
      "{'status': {'timestamp': '2024-10-19T02:19:23.588027941Z', 'code': 'OK'}, 'payload': {'data': {'accessToken': 'eyJhbGciOiJSUzI1NiIsInR5cCIgOiAiSldUIiwia2lkIiA6ICI5YW5CME1YeUhDQktkV0RVN0Q5NnZYV09PblVHc2xIUEFLR3puQnBkRi1NIn0.eyJleHAiOjE3MjkzMDUyNjMsImlhdCI6MTcyOTMwNDM2MywianRpIjoiNTczYzJiMTAtNGQxYS00YTZkLWIyODMtMjRiZjZjNWRkNTc0IiwiaXNzIjoiaHR0cDovL2tleWNsb2FrLmtleWNsb2FrLnByb2QubXlpbnZlc3Rvci5sb2NhbDoxMDAwMi9yZWFsbXMvbXlpbnZlc3Rvci1wcm9kIiwiYXVkIjoiYWNjb3VudCIsInN1YiI6IjY2MTkwOWNiLTBkYjEtNDY0ZC1hMzA5LTViYWNhYTZjYmY4ZSIsInR5cCI6IkJlYXJlciIsImF6cCI6Im15aW52ZXN0b3ItY2xpZW50LXByb2QiLCJzaWQiOiIyMGQwOWM3Ni04ODMxLTRiZTgtODdhZS02NGExNmI3NmY3MDMiLCJhY3IiOiIxIiwiYWxsb3dlZC1vcmlnaW5zIjpbIi8qIl0sInJlYWxtX2FjY2VzcyI6eyJyb2xlcyI6WyJvZmZsaW5lX2FjY2VzcyIsImRlZmF1bHQtcm9sZXMtbXlpbnZlc3Rvci1wcm9kIiwidW1hX2F1dGhvcml6YXRpb24iXX0sInJlc291cmNlX2FjY2VzcyI6eyJteWludmVzdG9yLWNsaWVudC1wcm9kIjp7InJvbGVzIjpbIk1ZSU5WRVNUT1IiLCJVU0VSIl19LCJhY2NvdW50Ijp7InJvbGVzIjpbIm1hbmFnZS1hY2NvdW50IiwibWFuYWdlLWFjY291bnQtbGlua3MiLCJ2aWV3LXByb2ZpbGUiXX19LCJzY29wZSI6InByb2ZpbGUgZW1haWwiLCJlbWFpbF92ZXJpZmllZCI6dHJ1ZSwibmFtZSI6IkpPUkRJIE1FU1RSRVMgRVNURVZFIiwicHJlZmVycmVkX3VzZXJuYW1lIjoiNDc3NDYzMjBlIiwiZ2l2ZW5fbmFtZSI6IkpPUkRJIiwiZmFtaWx5X25hbWUiOiJNRVNUUkVTIEVTVEVWRSIsImVtYWlsIjoiam9yZGltZXN0cmVlc0BnbWFpbC5jb20ifQ.KXoqS6PaNibPjliLu_RID-6P-F9j4r4SGFfzTV3N47WrPnW4UgkpD15R-1rqOWzd6FVw9eTgwUnsIn_nSMy_U3v8Ox797TWv5BWGsewxL7UOtiH74aVdjPz1l0E9PPAUX7oQPsVw0XPEkcZEFAdYl1fOyDTEnEMj4QkJsXUOSkOUoEM_dNXNxXbfRYI31rKHtESuaHc9CYkdP5WiXgqMm5qjxMMycpHQXkfjTlwA0U8HA3PINbbymtftBljxducSnTdhr9kZmN59SA626ENZ__BXO8aJOY0wA4murNdIiudG7vzG6mzFObmfR7yThYukpy7KvMgUqW5dV7zex2J-iA', 'expiresIn': 900, 'refreshToken': 'eyJhbGciOiJIUzUxMiIsInR5cCIgOiAiSldUIiwia2lkIiA6ICJiNzUzNDI3Mi04Y2FjLTRhOGYtODlkNy0zOGU2MTczMzkxNGUifQ.eyJleHAiOjE3MjkzMDYxNjMsImlhdCI6MTcyOTMwNDM2MywianRpIjoiNDQ3Y2RkMTYtZDdjMi00ZDlkLTk5ODAtZDgyMjhhNzk3MTM4IiwiaXNzIjoiaHR0cDovL2tleWNsb2FrLmtleWNsb2FrLnByb2QubXlpbnZlc3Rvci5sb2NhbDoxMDAwMi9yZWFsbXMvbXlpbnZlc3Rvci1wcm9kIiwiYXVkIjoiaHR0cDovL2tleWNsb2FrLmtleWNsb2FrLnByb2QubXlpbnZlc3Rvci5sb2NhbDoxMDAwMi9yZWFsbXMvbXlpbnZlc3Rvci1wcm9kIiwic3ViIjoiNjYxOTA5Y2ItMGRiMS00NjRkLWEzMDktNWJhY2FhNmNiZjhlIiwidHlwIjoiUmVmcmVzaCIsImF6cCI6Im15aW52ZXN0b3ItY2xpZW50LXByb2QiLCJzaWQiOiIyMGQwOWM3Ni04ODMxLTRiZTgtODdhZS02NGExNmI3NmY3MDMiLCJzY29wZSI6IndlYi1vcmlnaW5zIGFjciBwcm9maWxlIGVtYWlsIHJvbGVzIGJhc2ljIn0.U1LLTbd3bK-mup1n3MRU19dcBLPAZHp8-lCkr8RuwoXduNppXN1Dsc1LFb536oVusjIAjqGXgI-HHLm3Tu8c9w', 'refreshExpiresIn': 1800, 'tokenType': 'Bearer'}}}\n"
     ]
    }
   ],
   "source": [
    "m.login()"
   ]
  },
  {
   "cell_type": "code",
   "execution_count": 26,
   "metadata": {},
   "outputs": [
    {
     "data": {
      "text/plain": [
       "2462.44"
      ]
     },
     "execution_count": 26,
     "metadata": {},
     "output_type": "execute_result"
    }
   ],
   "source": [
    "m.fetch_cash()"
   ]
  },
  {
   "cell_type": "code",
   "execution_count": 46,
   "metadata": {},
   "outputs": [
    {
     "data": {
      "text/plain": [
       "[FinProd(id=p000316, name=madrid | proyecto el plantío, type=realestate, initial_value=1000.0, value=1000.0, roi=0.00%)]"
      ]
     },
     "execution_count": 46,
     "metadata": {},
     "output_type": "execute_result"
    }
   ],
   "source": [
    "m.fetch_real_estate()"
   ]
  },
  {
   "cell_type": "code",
   "execution_count": 47,
   "metadata": {},
   "outputs": [],
   "source": [
    "m.logout()"
   ]
  },
  {
   "cell_type": "code",
   "execution_count": 27,
   "metadata": {},
   "outputs": [],
   "source": [
    "r = m.session.get('https://app.myinvestor.es/urbanitae/v1/users/U109574/allInvestments')"
   ]
  },
  {
   "cell_type": "code",
   "execution_count": 28,
   "metadata": {},
   "outputs": [
    {
     "data": {
      "text/plain": [
       "[{'projectId': 'P000316',\n",
       "  'projectName': 'Madrid | Proyecto El Plantío',\n",
       "  'projectPhase': 'FORMALIZED',\n",
       "  'projectPhaseString': 'FINANCIADO',\n",
       "  'businessModel': 'LENDING',\n",
       "  'returnQuantity': None,\n",
       "  'returnCapital': None,\n",
       "  'investedQuantity': 1000.0,\n",
       "  'propertyPercentage': 0.08,\n",
       "  'statusMyinvestor': 'ACTIVE',\n",
       "  'statusMyinvestorEnum': 'ACTIVE'}]"
      ]
     },
     "execution_count": 28,
     "metadata": {},
     "output_type": "execute_result"
    }
   ],
   "source": [
    "r.json()"
   ]
  },
  {
   "cell_type": "code",
   "execution_count": 44,
   "metadata": {},
   "outputs": [
    {
     "data": {
      "text/plain": [
       "FinProd(id=p000316, name=madrid | proyecto el plantío, type=realestate, initial_value=1000.0, value=1000.0, roi=0.00%)"
      ]
     },
     "execution_count": 44,
     "metadata": {},
     "output_type": "execute_result"
    }
   ],
   "source": [
    "m._create_fin_prod_from_json(FinProdType.REAL_ESTATE, r.json()[0])"
   ]
  }
 ],
 "metadata": {
  "kernelspec": {
   "display_name": "Python 3",
   "language": "python",
   "name": "python3"
  },
  "language_info": {
   "codemirror_mode": {
    "name": "ipython",
    "version": 3
   },
   "file_extension": ".py",
   "mimetype": "text/x-python",
   "name": "python",
   "nbconvert_exporter": "python",
   "pygments_lexer": "ipython3",
   "version": "3.7.9"
  }
 },
 "nbformat": 4,
 "nbformat_minor": 2
}
